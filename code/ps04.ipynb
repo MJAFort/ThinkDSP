{
 "metadata": {
  "name": "",
  "signature": "sha256:932ff81a5bf9efd12530c6065bf3e9736403dd6045eb7caa180b2a516d85592a"
 },
 "nbformat": 3,
 "nbformat_minor": 0,
 "worksheets": [
  {
   "cells": [
    {
     "cell_type": "code",
     "collapsed": false,
     "input": [
      "from __future__ import print_function, division\n",
      "\n",
      "import thinkdsp\n",
      "import thinkplot\n",
      "import thinkstats2\n",
      "import math\n",
      "import numpy\n",
      "import pandas\n",
      "import scipy.fftpack\n",
      "import dct\n",
      "\n",
      "%precision 3\n",
      "%matplotlib inline\n",
      "\n",
      "PI2 = 2 * math.pi"
     ],
     "language": "python",
     "metadata": {},
     "outputs": [],
     "prompt_number": 2
    },
    {
     "cell_type": "code",
     "collapsed": false,
     "input": [],
     "language": "python",
     "metadata": {},
     "outputs": []
    }
   ],
   "metadata": {}
  }
 ]
}