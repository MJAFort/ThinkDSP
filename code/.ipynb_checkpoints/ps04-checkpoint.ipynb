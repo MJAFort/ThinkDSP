{
 "metadata": {
  "name": "",
  "signature": "sha256:dadf3dba6e4d2b15d4cc20ddd6590c3804aeff53a9989a36538cec55918d1f20"
 },
 "nbformat": 3,
 "nbformat_minor": 0,
 "worksheets": []
}