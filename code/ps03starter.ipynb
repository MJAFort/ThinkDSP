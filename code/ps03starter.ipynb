{
 "metadata": {
  "name": "",
  "signature": "sha256:32351082c6153e7bb9251abaad237dd43ae29a94bebcc0d2c8371eab53e6364e"
 },
 "nbformat": 3,
 "nbformat_minor": 0,
 "worksheets": [
  {
   "cells": [
    {
     "cell_type": "markdown",
     "metadata": {},
     "source": [
      "ThinkDSP, by Allen Downey\n",
      "\n",
      "Starter code for Problem Set 3."
     ]
    },
    {
     "cell_type": "code",
     "collapsed": false,
     "input": [
      "from __future__ import print_function, division\n",
      "\n",
      "import thinkdsp\n",
      "import thinkplot\n",
      "import numpy\n",
      "import math\n",
      "import pandas\n",
      "import scipy.fftpack\n",
      "\n",
      "import dct\n",
      "\n",
      "PI2 = 2 * math.pi\n",
      "\n",
      "%matplotlib inline"
     ],
     "language": "python",
     "metadata": {},
     "outputs": [],
     "prompt_number": 7
    },
    {
     "cell_type": "code",
     "collapsed": false,
     "input": [
      "signal = thinkdsp.UncorrelatedGaussianNoise()\n",
      "noise = signal.make_wave(duration=1.0)\n",
      "\n",
      "ns = 2 ** numpy.arange(4, 12)\n",
      "print(ns)"
     ],
     "language": "python",
     "metadata": {},
     "outputs": [
      {
       "output_type": "stream",
       "stream": "stdout",
       "text": [
        "[  16   32   64  128  256  512 1024 2048]\n"
       ]
      }
     ],
     "prompt_number": 8
    },
    {
     "cell_type": "code",
     "collapsed": false,
     "input": [
      "results = []\n",
      "for N in ns:\n",
      "    ts = (0.5 + numpy.arange(N)) / N\n",
      "    freqs = (0.5 + numpy.arange(N)) / 2\n",
      "    ys = noise.ys[:N]\n",
      "    result = %timeit -o dct.analyze1(ys, freqs, ts)\n",
      "    results.append(result)"
     ],
     "language": "python",
     "metadata": {},
     "outputs": [
      {
       "output_type": "stream",
       "stream": "stdout",
       "text": [
        "10000 loops, best of 3: 42.9 \u00b5s per loop\n",
        "10000 loops, best of 3: 80.2 \u00b5s per loop"
       ]
      },
      {
       "output_type": "stream",
       "stream": "stdout",
       "text": [
        "\n",
        "10000 loops, best of 3: 195 \u00b5s per loop"
       ]
      },
      {
       "output_type": "stream",
       "stream": "stdout",
       "text": [
        "\n",
        "1000 loops, best of 3: 646 \u00b5s per loop"
       ]
      },
      {
       "output_type": "stream",
       "stream": "stdout",
       "text": [
        "\n",
        "100 loops, best of 3: 2.99 ms per loop"
       ]
      },
      {
       "output_type": "stream",
       "stream": "stdout",
       "text": [
        "\n",
        "100 loops, best of 3: 14.1 ms per loop"
       ]
      },
      {
       "output_type": "stream",
       "stream": "stdout",
       "text": [
        "\n",
        "10 loops, best of 3: 76.7 ms per loop"
       ]
      },
      {
       "output_type": "stream",
       "stream": "stdout",
       "text": [
        "\n",
        "1 loops, best of 3: 414 ms per loop"
       ]
      },
      {
       "output_type": "stream",
       "stream": "stdout",
       "text": [
        "\n"
       ]
      }
     ],
     "prompt_number": 9
    },
    {
     "cell_type": "code",
     "collapsed": false,
     "input": [
      "bests = [result.best for result in results]\n",
      "bests"
     ],
     "language": "python",
     "metadata": {},
     "outputs": [
      {
       "metadata": {},
       "output_type": "pyout",
       "prompt_number": 10,
       "text": [
        "[4.2873926663105524e-05,\n",
        " 8.016092005973405e-05,\n",
        " 0.00019534700164231255,\n",
        " 0.0006463539077067253,\n",
        " 0.0029928480734361072,\n",
        " 0.014084405471703577,\n",
        " 0.07668949968701781,\n",
        " 0.4144326740934048]"
       ]
      }
     ],
     "prompt_number": 10
    },
    {
     "cell_type": "code",
     "collapsed": false,
     "input": [
      "thinkplot.plot(ns, bests)\n",
      "thinkplot.config(xscale='log', yscale='log')"
     ],
     "language": "python",
     "metadata": {},
     "outputs": [
      {
       "metadata": {},
       "output_type": "display_data",
       "png": "[encoded data removed]",
       "text": [
        "<matplotlib.figure.Figure at 0xd71b430>"
       ]
      }
     ],
     "prompt_number": 11
    },
    {
     "cell_type": "code",
     "collapsed": false,
     "input": [
      "x = numpy.log(ns)\n",
      "y = numpy.log(bests)\n",
      "t = scipy.stats.linregress(x,y)\n",
      "t"
     ],
     "language": "python",
     "metadata": {},
     "outputs": [
      {
       "metadata": {},
       "output_type": "pyout",
       "prompt_number": 12,
       "text": [
        "(1.9393772435101433,\n",
        " -16.194137725424511,\n",
        " 0.99001258501243594,\n",
        " 2.4719545885668478e-06,\n",
        " 0.11274581077759299)"
       ]
      }
     ],
     "prompt_number": 12
    },
    {
     "cell_type": "code",
     "collapsed": false,
     "input": [],
     "language": "python",
     "metadata": {},
     "outputs": [],
     "prompt_number": 12
    }
   ],
   "metadata": {}
  }
 ]
}