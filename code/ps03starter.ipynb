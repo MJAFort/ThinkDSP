{
 "metadata": {
  "name": "",
  "signature": "sha256:5b695ba57da9974e04eb0744e8fd75665ba5eba0d7a3a57674a1cb54af013623"
 },
 "nbformat": 3,
 "nbformat_minor": 0,
 "worksheets": [
  {
   "cells": [
    {
     "cell_type": "markdown",
     "metadata": {},
     "source": [
      "ThinkDSP, by Allen Downey\n",
      "\n",
      "Starter code for Problem Set 3."
     ]
    },
    {
     "cell_type": "code",
     "collapsed": false,
     "input": [
      "from __future__ import print_function, division\n",
      "\n",
      "import thinkdsp\n",
      "import thinkplot\n",
      "import numpy\n",
      "import math\n",
      "import pandas\n",
      "import scipy.fftpack\n",
      "\n",
      "import dct\n",
      "\n",
      "PI2 = 2 * math.pi\n",
      "\n",
      "%matplotlib inline"
     ],
     "language": "python",
     "metadata": {},
     "outputs": [],
     "prompt_number": 1
    },
    {
     "cell_type": "code",
     "collapsed": false,
     "input": [
      "signal = thinkdsp.UncorrelatedGaussianNoise()\n",
      "noise = signal.make_wave(duration=1.0)\n",
      "\n",
      "ns = 2 ** numpy.arange(4, 12)\n",
      "print(ns)"
     ],
     "language": "python",
     "metadata": {},
     "outputs": [
      {
       "output_type": "stream",
       "stream": "stdout",
       "text": [
        "[  16   32   64  128  256  512 1024 2048]\n"
       ]
      }
     ],
     "prompt_number": 2
    },
    {
     "cell_type": "code",
     "collapsed": false,
     "input": [
      "results = []\n",
      "for N in ns:\n",
      "    ts = (0.5 + numpy.arange(N)) / N\n",
      "    freqs = (0.5 + numpy.arange(N)) / 2\n",
      "    ys = noise.ys[:N]\n",
      "    result = %timeit -o dct.analyze1(ys, freqs, ts)\n",
      "    results.append(result)"
     ],
     "language": "python",
     "metadata": {},
     "outputs": [
      {
       "output_type": "stream",
       "stream": "stdout",
       "text": [
        "1 loops, best of 3: 57.9 \u00b5s per loop\n",
        "10000 loops, best of 3: 81.5 \u00b5s per loop"
       ]
      },
      {
       "output_type": "stream",
       "stream": "stdout",
       "text": [
        "\n",
        "1000 loops, best of 3: 196 \u00b5s per loop"
       ]
      },
      {
       "output_type": "stream",
       "stream": "stdout",
       "text": [
        "\n",
        "1000 loops, best of 3: 721 \u00b5s per loop"
       ]
      },
      {
       "output_type": "stream",
       "stream": "stdout",
       "text": [
        "\n",
        "100 loops, best of 3: 3.28 ms per loop"
       ]
      },
      {
       "output_type": "stream",
       "stream": "stdout",
       "text": [
        "\n",
        "100 loops, best of 3: 14.8 ms per loop"
       ]
      },
      {
       "output_type": "stream",
       "stream": "stdout",
       "text": [
        "\n",
        "10 loops, best of 3: 77.4 ms per loop"
       ]
      },
      {
       "output_type": "stream",
       "stream": "stdout",
       "text": [
        "\n",
        "1 loops, best of 3: 428 ms per loop"
       ]
      },
      {
       "output_type": "stream",
       "stream": "stdout",
       "text": [
        "\n"
       ]
      }
     ],
     "prompt_number": 3
    },
    {
     "cell_type": "code",
     "collapsed": false,
     "input": [
      "bests = [result.best for result in results]\n",
      "bests"
     ],
     "language": "python",
     "metadata": {},
     "outputs": [
      {
       "metadata": {},
       "output_type": "pyout",
       "prompt_number": 4,
       "text": [
        "[5.7870132573967226e-05,\n",
        " 8.14910770419254e-05,\n",
        " 0.00019644376050394286,\n",
        " 0.0007208885839007344,\n",
        " 0.0032760555991579034,\n",
        " 0.014789147261338797,\n",
        " 0.07739996685308377,\n",
        " 0.4283608849952678]"
       ]
      }
     ],
     "prompt_number": 4
    },
    {
     "cell_type": "code",
     "collapsed": false,
     "input": [
      "thinkplot.plot(ns, bests)\n",
      "thinkplot.config(xscale='log', yscale='log')"
     ],
     "language": "python",
     "metadata": {},
     "outputs": [
      {
       "output_type": "stream",
       "stream": "stderr",
       "text": [
        "C:\\Users\\mfort\\AppData\\Local\\Continuum\\Anaconda\\lib\\site-packages\\matplotlib\\axes\\_axes.py:475: UserWarning: No labelled objects found. Use label='...' kwarg on individual plots.\n",
        "  warnings.warn(\"No labelled objects found. \"\n"
       ]
      },
      {
       "metadata": {},
       "output_type": "display_data",
       "png": "[encoded data removed]",
       "text": [
        "<matplotlib.figure.Figure at 0x3bd5f90>"
       ]
      }
     ],
     "prompt_number": 5
    },
    {
     "cell_type": "code",
     "collapsed": false,
     "input": [
      "x = numpy.log(ns)\n",
      "y = numpy.log(bests)\n",
      "t = scipy.stats.linregress(x,y)\n",
      "t"
     ],
     "language": "python",
     "metadata": {},
     "outputs": [
      {
       "metadata": {},
       "output_type": "pyout",
       "prompt_number": 6,
       "text": [
        "(1.908575770296707,\n",
        " -15.957432042189897,\n",
        " 0.98750521822069726,\n",
        " 4.8311141760482487e-06,\n",
        " 0.12434057124003284)"
       ]
      }
     ],
     "prompt_number": 6
    },
    {
     "cell_type": "code",
     "collapsed": false,
     "input": [],
     "language": "python",
     "metadata": {},
     "outputs": [],
     "prompt_number": 6
    }
   ],
   "metadata": {}
  }
 ]
}